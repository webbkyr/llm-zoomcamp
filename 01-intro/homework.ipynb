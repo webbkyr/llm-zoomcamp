{
 "cells": [
  {
   "cell_type": "code",
   "execution_count": 1,
   "id": "7f63b7a4-6bbe-423f-bd99-fb5dc49758ea",
   "metadata": {},
   "outputs": [],
   "source": [
    "from openai import OpenAI"
   ]
  },
  {
   "cell_type": "code",
   "execution_count": 2,
   "id": "26e578fa-54d2-4d9c-9864-f97f9097ebcc",
   "metadata": {},
   "outputs": [],
   "source": [
    "client = OpenAI()"
   ]
  },
  {
   "cell_type": "code",
   "execution_count": 3,
   "id": "59c8182b-dcf3-41eb-a73e-648f71a899d4",
   "metadata": {},
   "outputs": [],
   "source": [
    "import os"
   ]
  },
  {
   "cell_type": "code",
   "execution_count": 4,
   "id": "67ca0ed1-a911-4636-828b-b58f51a9ce0e",
   "metadata": {},
   "outputs": [],
   "source": [
    "response = client.chat.completions.create(model=\"gpt-4o\", messages=[{\"role\":\"user\", \"content\":\"is it too late to join the course?\"}]) "
   ]
  },
  {
   "cell_type": "code",
   "execution_count": 5,
   "id": "67279ae7-4ace-47e7-b1b9-1b350493be83",
   "metadata": {},
   "outputs": [
    {
     "data": {
      "text/plain": [
       "ChatCompletion(id='chatcmpl-BehxQWm5LkYpuwiV1pcxgr5HpAccC', choices=[Choice(finish_reason='stop', index=0, logprobs=None, message=ChatCompletionMessage(content=\"To determine whether it's too late to join a specific course, you'll need to check several factors:\\n\\n1. **Enrollment Deadline**: Look at the course's enrollment or registration deadline. Most courses have a specific date by which you must register.\\n\\n2. **Course Start Date**: Determine when the course began. If it's already underway, find out how many weeks or sessions have passed and whether late enrollment is permitted.\\n\\n3. **Instructor/Institution Policy**: Some instructors or institutions allow late enrollment if you can catch up on missed material. Contact the course administrator or instructor to inquire about this possibility.\\n\\n4. **Self-Paced vs. Fixed Schedule**: If the course is self-paced, you may be able to enroll at any time. With fixed-schedule courses, there might be stricter deadlines.\\n\\n5. **Availability of Materials**: Check if all course materials and recorded lectures (if available) are accessible to late enrollees to help you catch up.\\n\\n6. **Waitlist**: If enrollment is closed, see if there's a waitlist you can join in case spots open up later.\\n\\nEach course will have its specific guidelines, so it's best to contact the relevant department or check the course's website for detailed information.\", refusal=None, role='assistant', annotations=[], audio=None, function_call=None, tool_calls=None))], created=1749041792, model='gpt-4o-2024-08-06', object='chat.completion', service_tier='default', system_fingerprint='fp_07871e2ad8', usage=CompletionUsage(completion_tokens=249, prompt_tokens=16, total_tokens=265, completion_tokens_details=CompletionTokensDetails(accepted_prediction_tokens=0, audio_tokens=0, reasoning_tokens=0, rejected_prediction_tokens=0), prompt_tokens_details=PromptTokensDetails(audio_tokens=0, cached_tokens=0)))"
      ]
     },
     "execution_count": 5,
     "metadata": {},
     "output_type": "execute_result"
    }
   ],
   "source": [
    "response"
   ]
  },
  {
   "cell_type": "code",
   "execution_count": 6,
   "id": "97e4484b-2b56-468a-abd8-4d1d2556d66e",
   "metadata": {},
   "outputs": [
    {
     "data": {
      "text/plain": [
       "Choice(finish_reason='stop', index=0, logprobs=None, message=ChatCompletionMessage(content=\"To determine whether it's too late to join a specific course, you'll need to check several factors:\\n\\n1. **Enrollment Deadline**: Look at the course's enrollment or registration deadline. Most courses have a specific date by which you must register.\\n\\n2. **Course Start Date**: Determine when the course began. If it's already underway, find out how many weeks or sessions have passed and whether late enrollment is permitted.\\n\\n3. **Instructor/Institution Policy**: Some instructors or institutions allow late enrollment if you can catch up on missed material. Contact the course administrator or instructor to inquire about this possibility.\\n\\n4. **Self-Paced vs. Fixed Schedule**: If the course is self-paced, you may be able to enroll at any time. With fixed-schedule courses, there might be stricter deadlines.\\n\\n5. **Availability of Materials**: Check if all course materials and recorded lectures (if available) are accessible to late enrollees to help you catch up.\\n\\n6. **Waitlist**: If enrollment is closed, see if there's a waitlist you can join in case spots open up later.\\n\\nEach course will have its specific guidelines, so it's best to contact the relevant department or check the course's website for detailed information.\", refusal=None, role='assistant', annotations=[], audio=None, function_call=None, tool_calls=None))"
      ]
     },
     "execution_count": 6,
     "metadata": {},
     "output_type": "execute_result"
    }
   ],
   "source": [
    " response.choices[0]"
   ]
  },
  {
   "cell_type": "code",
   "execution_count": 8,
   "id": "22917f18-ab85-4d03-8eaf-6010c709fae5",
   "metadata": {},
   "outputs": [
    {
     "data": {
      "text/plain": [
       "\"To determine whether it's too late to join a specific course, you'll need to check several factors:\\n\\n1. **Enrollment Deadline**: Look at the course's enrollment or registration deadline. Most courses have a specific date by which you must register.\\n\\n2. **Course Start Date**: Determine when the course began. If it's already underway, find out how many weeks or sessions have passed and whether late enrollment is permitted.\\n\\n3. **Instructor/Institution Policy**: Some instructors or institutions allow late enrollment if you can catch up on missed material. Contact the course administrator or instructor to inquire about this possibility.\\n\\n4. **Self-Paced vs. Fixed Schedule**: If the course is self-paced, you may be able to enroll at any time. With fixed-schedule courses, there might be stricter deadlines.\\n\\n5. **Availability of Materials**: Check if all course materials and recorded lectures (if available) are accessible to late enrollees to help you catch up.\\n\\n6. **Waitlist**: If enrollment is closed, see if there's a waitlist you can join in case spots open up later.\\n\\nEach course will have its specific guidelines, so it's best to contact the relevant department or check the course's website for detailed information.\""
      ]
     },
     "execution_count": 8,
     "metadata": {},
     "output_type": "execute_result"
    }
   ],
   "source": [
    "response.choices[0].message.content"
   ]
  },
  {
   "cell_type": "code",
   "execution_count": null,
   "id": "67dc2640-702f-41c0-b8e0-383e339ae972",
   "metadata": {},
   "outputs": [],
   "source": []
  }
 ],
 "metadata": {
  "kernelspec": {
   "display_name": "Python 3 (ipykernel)",
   "language": "python",
   "name": "python3"
  },
  "language_info": {
   "codemirror_mode": {
    "name": "ipython",
    "version": 3
   },
   "file_extension": ".py",
   "mimetype": "text/x-python",
   "name": "python",
   "nbconvert_exporter": "python",
   "pygments_lexer": "ipython3",
   "version": "3.12.1"
  }
 },
 "nbformat": 4,
 "nbformat_minor": 5
}
